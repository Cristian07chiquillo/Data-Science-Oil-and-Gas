{
 "cells": [
  {
   "cell_type": "markdown",
   "id": "ce3cdfaf",
   "metadata": {},
   "source": [
    "# Data Science Tools and Ecosystem"
   ]
  },
  {
   "cell_type": "markdown",
   "id": "98429135",
   "metadata": {},
   "source": [
    "In this notebook, Data Science Tools and Ecosystem are summarized."
   ]
  },
  {
   "cell_type": "markdown",
   "id": "6e416a1a",
   "metadata": {},
   "source": [
    "**Objetives:**\n",
    "* List of popular languages.\n",
    "* List of popular libraries.\n",
    "* Arithmetic Expressions in Python."
   ]
  },
  {
   "cell_type": "markdown",
   "id": "72273a57",
   "metadata": {},
   "source": [
    "Some of the popular languages that Data Scientists use are:\n",
    "1. Python.\n",
    "2. R.\n",
    "3. SQL."
   ]
  },
  {
   "cell_type": "markdown",
   "id": "b3159893",
   "metadata": {},
   "source": [
    "Some of the commonly used libraries used by Data Scientists include:\n",
    "1. Sklearn.\n",
    "2. Pandas.\n",
    "3. Numpy.\n",
    "4. Tensorflow."
   ]
  },
  {
   "cell_type": "code",
   "execution_count": 2,
   "id": "557a6b31",
   "metadata": {},
   "outputs": [
    {
     "name": "stdout",
     "output_type": "stream",
     "text": [
      "Data Science Tools\n",
      "Jupyter Notebook\n",
      "R Studio\n",
      "Visual Studio Code\n"
     ]
    }
   ],
   "source": [
    "print(\"Data Science Tools\\nJupyter Notebook\\nR Studio\\nVisual Studio Code\")"
   ]
  },
  {
   "cell_type": "markdown",
   "id": "ddd5ae17",
   "metadata": {},
   "source": [
    "### Below are a few examples of evaluating arithmetic expressions in Python"
   ]
  },
  {
   "cell_type": "markdown",
   "id": "1773dd7e",
   "metadata": {},
   "source": [
    "This a simple arithmetic expression to mutiply then add integers:"
   ]
  },
  {
   "cell_type": "code",
   "execution_count": 3,
   "id": "8c16bc4b",
   "metadata": {},
   "outputs": [
    {
     "data": {
      "text/plain": [
       "17"
      ]
     },
     "execution_count": 3,
     "metadata": {},
     "output_type": "execute_result"
    }
   ],
   "source": [
    "(3*4)+5"
   ]
  },
  {
   "cell_type": "markdown",
   "id": "c10a930f",
   "metadata": {},
   "source": [
    "This will convert 200 minutes to hours by diving by 60:"
   ]
  },
  {
   "cell_type": "code",
   "execution_count": 5,
   "id": "ad4d82ce",
   "metadata": {},
   "outputs": [
    {
     "name": "stdout",
     "output_type": "stream",
     "text": [
      "3.3333333333333335\n"
     ]
    }
   ],
   "source": [
    "minutes = 200\n",
    "hours = minutes/60\n",
    "print(hours)"
   ]
  },
  {
   "cell_type": "markdown",
   "id": "72e29550",
   "metadata": {},
   "source": [
    "## Autor \n",
    "Cristian Chiquillo"
   ]
  },
  {
   "cell_type": "code",
   "execution_count": null,
   "id": "ed9002bb",
   "metadata": {},
   "outputs": [],
   "source": []
  }
 ],
 "metadata": {
  "kernelspec": {
   "display_name": "Python 3 (ipykernel)",
   "language": "python",
   "name": "python3"
  },
  "language_info": {
   "codemirror_mode": {
    "name": "ipython",
    "version": 3
   },
   "file_extension": ".py",
   "mimetype": "text/x-python",
   "name": "python",
   "nbconvert_exporter": "python",
   "pygments_lexer": "ipython3",
   "version": "3.11.5"
  }
 },
 "nbformat": 4,
 "nbformat_minor": 5
}
